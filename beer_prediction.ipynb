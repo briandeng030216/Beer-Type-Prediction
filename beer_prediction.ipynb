{
 "cells": [
  {
   "cell_type": "markdown",
   "metadata": {
    "deletable": false,
    "editable": false,
    "nbgrader": {
     "cell_type": "markdown",
     "checksum": "bca080b6a75d3c2ab92a041690185793",
     "grade": false,
     "grade_id": "cell-8e163850806ee57f",
     "locked": true,
     "schema_version": 3,
     "solution": false
    }
   },
   "source": [
    "# Predicting beer type\n",
    "\n",
    "This work is to predict what type of beer each is based on the characteristics of that beer.\n",
    "\n",
    "The data I will use here come from a publicly-available [Kaggle dataset on craft beer](https://www.kaggle.com/nickhould/craft-cans)."
   ]
  },
  {
   "cell_type": "markdown",
   "metadata": {
    "deletable": false,
    "editable": false,
    "nbgrader": {
     "cell_type": "markdown",
     "checksum": "c7522e9ec3d6f8af77c7096cec0e70f0",
     "grade": false,
     "grade_id": "cell-fdf5a52cfdd2a118",
     "locked": true,
     "schema_version": 3,
     "solution": false
    }
   },
   "source": [
    "# Part I : Data, Wrangling, & EDA"
   ]
  },
  {
   "cell_type": "code",
   "execution_count": 2,
   "metadata": {
    "deletable": false,
    "nbgrader": {
     "cell_type": "code",
     "checksum": "b815e40064b448cc28307957c386b3ce",
     "grade": false,
     "grade_id": "cell-1fa5c018cbfab919",
     "locked": false,
     "schema_version": 3,
     "solution": true
    }
   },
   "outputs": [],
   "source": [
    "import pandas as pd\n",
    "import numpy as np\n",
    "from sklearn.svm import SVC\n",
    "from sklearn.metrics import confusion_matrix, classification_report, precision_recall_fscore_support"
   ]
  },
  {
   "cell_type": "code",
   "execution_count": 3,
   "metadata": {
    "deletable": false,
    "editable": false,
    "nbgrader": {
     "cell_type": "code",
     "checksum": "6245965a1e12b02e9a79a1751088bc77",
     "grade": true,
     "grade_id": "cell-d8b87114e650e607",
     "locked": true,
     "points": 0.125,
     "schema_version": 3,
     "solution": false
    }
   },
   "outputs": [],
   "source": [
    "assert pd\n",
    "assert np\n",
    "assert SVC\n",
    "assert confusion_matrix\n",
    "assert classification_report\n",
    "assert precision_recall_fscore_support"
   ]
  },
  {
   "cell_type": "code",
   "execution_count": 4,
   "metadata": {
    "deletable": false,
    "nbgrader": {
     "cell_type": "code",
     "checksum": "4152e51aad276bcf6fe7d71d298bc78d",
     "grade": false,
     "grade_id": "cell-d10db4e6f0c02976",
     "locked": false,
     "schema_version": 3,
     "solution": true
    }
   },
   "outputs": [],
   "source": [
    "breweries = pd.read_csv(\"data/breweries.csv\")\n",
    "beers = pd.read_csv(\"data/beers.csv\")"
   ]
  },
  {
   "cell_type": "code",
   "execution_count": 5,
   "metadata": {
    "deletable": false,
    "editable": false,
    "nbgrader": {
     "cell_type": "code",
     "checksum": "b8603ae6e6237c1b0236d687fb8c3313",
     "grade": true,
     "grade_id": "cell-a3a4511bf1f57302",
     "locked": true,
     "points": 0.125,
     "schema_version": 3,
     "solution": false
    }
   },
   "outputs": [],
   "source": [
    "assert breweries.shape == (558, 4)\n",
    "assert beers.shape == (2410, 8)"
   ]
  },
  {
   "cell_type": "code",
   "execution_count": 6,
   "metadata": {},
   "outputs": [
    {
     "data": {
      "text/html": [
       "<div>\n",
       "<style scoped>\n",
       "    .dataframe tbody tr th:only-of-type {\n",
       "        vertical-align: middle;\n",
       "    }\n",
       "\n",
       "    .dataframe tbody tr th {\n",
       "        vertical-align: top;\n",
       "    }\n",
       "\n",
       "    .dataframe thead th {\n",
       "        text-align: right;\n",
       "    }\n",
       "</style>\n",
       "<table border=\"1\" class=\"dataframe\">\n",
       "  <thead>\n",
       "    <tr style=\"text-align: right;\">\n",
       "      <th></th>\n",
       "      <th>Unnamed: 0</th>\n",
       "      <th>name</th>\n",
       "      <th>city</th>\n",
       "      <th>state</th>\n",
       "    </tr>\n",
       "  </thead>\n",
       "  <tbody>\n",
       "    <tr>\n",
       "      <th>0</th>\n",
       "      <td>0</td>\n",
       "      <td>NorthGate Brewing</td>\n",
       "      <td>Minneapolis</td>\n",
       "      <td>MN</td>\n",
       "    </tr>\n",
       "    <tr>\n",
       "      <th>1</th>\n",
       "      <td>1</td>\n",
       "      <td>Against the Grain Brewery</td>\n",
       "      <td>Louisville</td>\n",
       "      <td>KY</td>\n",
       "    </tr>\n",
       "    <tr>\n",
       "      <th>2</th>\n",
       "      <td>2</td>\n",
       "      <td>Jack's Abby Craft Lagers</td>\n",
       "      <td>Framingham</td>\n",
       "      <td>MA</td>\n",
       "    </tr>\n",
       "    <tr>\n",
       "      <th>3</th>\n",
       "      <td>3</td>\n",
       "      <td>Mike Hess Brewing Company</td>\n",
       "      <td>San Diego</td>\n",
       "      <td>CA</td>\n",
       "    </tr>\n",
       "    <tr>\n",
       "      <th>4</th>\n",
       "      <td>4</td>\n",
       "      <td>Fort Point Beer Company</td>\n",
       "      <td>San Francisco</td>\n",
       "      <td>CA</td>\n",
       "    </tr>\n",
       "  </tbody>\n",
       "</table>\n",
       "</div>"
      ],
      "text/plain": [
       "   Unnamed: 0                       name           city state\n",
       "0           0         NorthGate Brewing     Minneapolis    MN\n",
       "1           1  Against the Grain Brewery     Louisville    KY\n",
       "2           2   Jack's Abby Craft Lagers     Framingham    MA\n",
       "3           3  Mike Hess Brewing Company      San Diego    CA\n",
       "4           4    Fort Point Beer Company  San Francisco    CA"
      ]
     },
     "execution_count": 6,
     "metadata": {},
     "output_type": "execute_result"
    }
   ],
   "source": [
    "breweries.head()"
   ]
  },
  {
   "cell_type": "code",
   "execution_count": 7,
   "metadata": {},
   "outputs": [
    {
     "data": {
      "text/html": [
       "<div>\n",
       "<style scoped>\n",
       "    .dataframe tbody tr th:only-of-type {\n",
       "        vertical-align: middle;\n",
       "    }\n",
       "\n",
       "    .dataframe tbody tr th {\n",
       "        vertical-align: top;\n",
       "    }\n",
       "\n",
       "    .dataframe thead th {\n",
       "        text-align: right;\n",
       "    }\n",
       "</style>\n",
       "<table border=\"1\" class=\"dataframe\">\n",
       "  <thead>\n",
       "    <tr style=\"text-align: right;\">\n",
       "      <th></th>\n",
       "      <th>Unnamed: 0</th>\n",
       "      <th>abv</th>\n",
       "      <th>ibu</th>\n",
       "      <th>id</th>\n",
       "      <th>name</th>\n",
       "      <th>style</th>\n",
       "      <th>brewery_id</th>\n",
       "      <th>ounces</th>\n",
       "    </tr>\n",
       "  </thead>\n",
       "  <tbody>\n",
       "    <tr>\n",
       "      <th>0</th>\n",
       "      <td>0</td>\n",
       "      <td>0.050</td>\n",
       "      <td>NaN</td>\n",
       "      <td>1436</td>\n",
       "      <td>Pub Beer</td>\n",
       "      <td>American Pale Lager</td>\n",
       "      <td>408</td>\n",
       "      <td>12.0</td>\n",
       "    </tr>\n",
       "    <tr>\n",
       "      <th>1</th>\n",
       "      <td>1</td>\n",
       "      <td>0.066</td>\n",
       "      <td>NaN</td>\n",
       "      <td>2265</td>\n",
       "      <td>Devil's Cup</td>\n",
       "      <td>American Pale Ale (APA)</td>\n",
       "      <td>177</td>\n",
       "      <td>12.0</td>\n",
       "    </tr>\n",
       "    <tr>\n",
       "      <th>2</th>\n",
       "      <td>2</td>\n",
       "      <td>0.071</td>\n",
       "      <td>NaN</td>\n",
       "      <td>2264</td>\n",
       "      <td>Rise of the Phoenix</td>\n",
       "      <td>American IPA</td>\n",
       "      <td>177</td>\n",
       "      <td>12.0</td>\n",
       "    </tr>\n",
       "    <tr>\n",
       "      <th>3</th>\n",
       "      <td>3</td>\n",
       "      <td>0.090</td>\n",
       "      <td>NaN</td>\n",
       "      <td>2263</td>\n",
       "      <td>Sinister</td>\n",
       "      <td>American Double / Imperial IPA</td>\n",
       "      <td>177</td>\n",
       "      <td>12.0</td>\n",
       "    </tr>\n",
       "    <tr>\n",
       "      <th>4</th>\n",
       "      <td>4</td>\n",
       "      <td>0.075</td>\n",
       "      <td>NaN</td>\n",
       "      <td>2262</td>\n",
       "      <td>Sex and Candy</td>\n",
       "      <td>American IPA</td>\n",
       "      <td>177</td>\n",
       "      <td>12.0</td>\n",
       "    </tr>\n",
       "  </tbody>\n",
       "</table>\n",
       "</div>"
      ],
      "text/plain": [
       "   Unnamed: 0    abv  ibu    id                 name  \\\n",
       "0           0  0.050  NaN  1436             Pub Beer   \n",
       "1           1  0.066  NaN  2265          Devil's Cup   \n",
       "2           2  0.071  NaN  2264  Rise of the Phoenix   \n",
       "3           3  0.090  NaN  2263             Sinister   \n",
       "4           4  0.075  NaN  2262        Sex and Candy   \n",
       "\n",
       "                            style  brewery_id  ounces  \n",
       "0             American Pale Lager         408    12.0  \n",
       "1         American Pale Ale (APA)         177    12.0  \n",
       "2                    American IPA         177    12.0  \n",
       "3  American Double / Imperial IPA         177    12.0  \n",
       "4                    American IPA         177    12.0  "
      ]
     },
     "execution_count": 7,
     "metadata": {},
     "output_type": "execute_result"
    }
   ],
   "source": [
    "beers.head()"
   ]
  },
  {
   "cell_type": "code",
   "execution_count": 8,
   "metadata": {
    "deletable": false,
    "nbgrader": {
     "cell_type": "code",
     "checksum": "774d4e02f58fc38b07de945f4042061f",
     "grade": false,
     "grade_id": "cell-d97505cb97ec42e8",
     "locked": false,
     "schema_version": 3,
     "solution": true
    }
   },
   "outputs": [],
   "source": [
    "null_beers = beers.isnull().sum()"
   ]
  },
  {
   "cell_type": "code",
   "execution_count": 9,
   "metadata": {
    "deletable": false,
    "nbgrader": {
     "cell_type": "code",
     "checksum": "77a8dc0e06680bf004ab0e905f6c51fb",
     "grade": false,
     "grade_id": "cell-388ac707168e1d78",
     "locked": false,
     "schema_version": 3,
     "solution": true
    }
   },
   "outputs": [],
   "source": [
    "beers = beers.dropna(subset=['style', 'abv', 'ibu'])"
   ]
  },
  {
   "cell_type": "code",
   "execution_count": 11,
   "metadata": {
    "deletable": false,
    "nbgrader": {
     "cell_type": "code",
     "checksum": "afb0dc1a3768ea953f0cd4f17985f9a4",
     "grade": false,
     "grade_id": "cell-3f94ee193183fa7d",
     "locked": false,
     "schema_version": 3,
     "solution": true
    },
    "scrolled": true
   },
   "outputs": [
    {
     "data": {
      "text/html": [
       "<div>\n",
       "<style scoped>\n",
       "    .dataframe tbody tr th:only-of-type {\n",
       "        vertical-align: middle;\n",
       "    }\n",
       "\n",
       "    .dataframe tbody tr th {\n",
       "        vertical-align: top;\n",
       "    }\n",
       "\n",
       "    .dataframe thead th {\n",
       "        text-align: right;\n",
       "    }\n",
       "</style>\n",
       "<table border=\"1\" class=\"dataframe\">\n",
       "  <thead>\n",
       "    <tr style=\"text-align: right;\">\n",
       "      <th></th>\n",
       "      <th>Unnamed: 0</th>\n",
       "      <th>abv</th>\n",
       "      <th>ibu</th>\n",
       "      <th>id</th>\n",
       "      <th>name</th>\n",
       "      <th>style</th>\n",
       "      <th>brewery_id</th>\n",
       "      <th>ounces</th>\n",
       "      <th>city</th>\n",
       "      <th>state</th>\n",
       "    </tr>\n",
       "  </thead>\n",
       "  <tbody>\n",
       "    <tr>\n",
       "      <th>0</th>\n",
       "      <td>14</td>\n",
       "      <td>0.061</td>\n",
       "      <td>60.0</td>\n",
       "      <td>1979</td>\n",
       "      <td>Bitter Bitch</td>\n",
       "      <td>American Pale Ale (APA)</td>\n",
       "      <td>177</td>\n",
       "      <td>12.0</td>\n",
       "      <td>NaN</td>\n",
       "      <td>NaN</td>\n",
       "    </tr>\n",
       "    <tr>\n",
       "      <th>1</th>\n",
       "      <td>21</td>\n",
       "      <td>0.099</td>\n",
       "      <td>92.0</td>\n",
       "      <td>1036</td>\n",
       "      <td>Lower De Boom</td>\n",
       "      <td>American Barleywine</td>\n",
       "      <td>368</td>\n",
       "      <td>8.4</td>\n",
       "      <td>NaN</td>\n",
       "      <td>NaN</td>\n",
       "    </tr>\n",
       "    <tr>\n",
       "      <th>2</th>\n",
       "      <td>22</td>\n",
       "      <td>0.079</td>\n",
       "      <td>45.0</td>\n",
       "      <td>1024</td>\n",
       "      <td>Fireside Chat</td>\n",
       "      <td>Winter Warmer</td>\n",
       "      <td>368</td>\n",
       "      <td>12.0</td>\n",
       "      <td>NaN</td>\n",
       "      <td>NaN</td>\n",
       "    </tr>\n",
       "    <tr>\n",
       "      <th>3</th>\n",
       "      <td>24</td>\n",
       "      <td>0.044</td>\n",
       "      <td>42.0</td>\n",
       "      <td>876</td>\n",
       "      <td>Bitter American</td>\n",
       "      <td>American Pale Ale (APA)</td>\n",
       "      <td>368</td>\n",
       "      <td>12.0</td>\n",
       "      <td>NaN</td>\n",
       "      <td>NaN</td>\n",
       "    </tr>\n",
       "    <tr>\n",
       "      <th>4</th>\n",
       "      <td>25</td>\n",
       "      <td>0.049</td>\n",
       "      <td>17.0</td>\n",
       "      <td>802</td>\n",
       "      <td>Hell or High Watermelon Wheat (2009)</td>\n",
       "      <td>Fruit / Vegetable Beer</td>\n",
       "      <td>368</td>\n",
       "      <td>12.0</td>\n",
       "      <td>NaN</td>\n",
       "      <td>NaN</td>\n",
       "    </tr>\n",
       "  </tbody>\n",
       "</table>\n",
       "</div>"
      ],
      "text/plain": [
       "   Unnamed: 0    abv   ibu    id                                  name  \\\n",
       "0          14  0.061  60.0  1979                          Bitter Bitch   \n",
       "1          21  0.099  92.0  1036                         Lower De Boom   \n",
       "2          22  0.079  45.0  1024                         Fireside Chat   \n",
       "3          24  0.044  42.0   876                       Bitter American   \n",
       "4          25  0.049  17.0   802  Hell or High Watermelon Wheat (2009)   \n",
       "\n",
       "                     style  brewery_id  ounces city state  \n",
       "0  American Pale Ale (APA)         177    12.0  NaN   NaN  \n",
       "1      American Barleywine         368     8.4  NaN   NaN  \n",
       "2            Winter Warmer         368    12.0  NaN   NaN  \n",
       "3  American Pale Ale (APA)         368    12.0  NaN   NaN  \n",
       "4   Fruit / Vegetable Beer         368    12.0  NaN   NaN  "
      ]
     },
     "execution_count": 11,
     "metadata": {},
     "output_type": "execute_result"
    }
   ],
   "source": [
    "beer_df = beers.merge(breweries, how = \"left\")\n",
    "beer_df.head()"
   ]
  },
  {
   "cell_type": "code",
   "execution_count": 12,
   "metadata": {},
   "outputs": [
    {
     "data": {
      "text/html": [
       "<div>\n",
       "<style scoped>\n",
       "    .dataframe tbody tr th:only-of-type {\n",
       "        vertical-align: middle;\n",
       "    }\n",
       "\n",
       "    .dataframe tbody tr th {\n",
       "        vertical-align: top;\n",
       "    }\n",
       "\n",
       "    .dataframe thead th {\n",
       "        text-align: right;\n",
       "    }\n",
       "</style>\n",
       "<table border=\"1\" class=\"dataframe\">\n",
       "  <thead>\n",
       "    <tr style=\"text-align: right;\">\n",
       "      <th></th>\n",
       "      <th>Unnamed: 0</th>\n",
       "      <th>abv</th>\n",
       "      <th>ibu</th>\n",
       "      <th>id</th>\n",
       "      <th>brewery_id</th>\n",
       "      <th>ounces</th>\n",
       "    </tr>\n",
       "  </thead>\n",
       "  <tbody>\n",
       "    <tr>\n",
       "      <th>count</th>\n",
       "      <td>1403.000000</td>\n",
       "      <td>1403.000000</td>\n",
       "      <td>1403.000000</td>\n",
       "      <td>1403.000000</td>\n",
       "      <td>1403.000000</td>\n",
       "      <td>1403.000000</td>\n",
       "    </tr>\n",
       "    <tr>\n",
       "      <th>mean</th>\n",
       "      <td>1241.128297</td>\n",
       "      <td>0.059919</td>\n",
       "      <td>42.739843</td>\n",
       "      <td>1413.888810</td>\n",
       "      <td>223.375624</td>\n",
       "      <td>13.510264</td>\n",
       "    </tr>\n",
       "    <tr>\n",
       "      <th>std</th>\n",
       "      <td>691.675612</td>\n",
       "      <td>0.013585</td>\n",
       "      <td>25.962692</td>\n",
       "      <td>757.572191</td>\n",
       "      <td>150.387510</td>\n",
       "      <td>2.254112</td>\n",
       "    </tr>\n",
       "    <tr>\n",
       "      <th>min</th>\n",
       "      <td>14.000000</td>\n",
       "      <td>0.027000</td>\n",
       "      <td>4.000000</td>\n",
       "      <td>1.000000</td>\n",
       "      <td>0.000000</td>\n",
       "      <td>8.400000</td>\n",
       "    </tr>\n",
       "    <tr>\n",
       "      <th>25%</th>\n",
       "      <td>681.500000</td>\n",
       "      <td>0.050000</td>\n",
       "      <td>21.000000</td>\n",
       "      <td>771.000000</td>\n",
       "      <td>95.500000</td>\n",
       "      <td>12.000000</td>\n",
       "    </tr>\n",
       "    <tr>\n",
       "      <th>50%</th>\n",
       "      <td>1228.000000</td>\n",
       "      <td>0.057000</td>\n",
       "      <td>35.000000</td>\n",
       "      <td>1435.000000</td>\n",
       "      <td>198.000000</td>\n",
       "      <td>12.000000</td>\n",
       "    </tr>\n",
       "    <tr>\n",
       "      <th>75%</th>\n",
       "      <td>1864.500000</td>\n",
       "      <td>0.068000</td>\n",
       "      <td>64.000000</td>\n",
       "      <td>2068.500000</td>\n",
       "      <td>350.000000</td>\n",
       "      <td>16.000000</td>\n",
       "    </tr>\n",
       "    <tr>\n",
       "      <th>max</th>\n",
       "      <td>2408.000000</td>\n",
       "      <td>0.125000</td>\n",
       "      <td>138.000000</td>\n",
       "      <td>2692.000000</td>\n",
       "      <td>546.000000</td>\n",
       "      <td>32.000000</td>\n",
       "    </tr>\n",
       "  </tbody>\n",
       "</table>\n",
       "</div>"
      ],
      "text/plain": [
       "        Unnamed: 0          abv          ibu           id   brewery_id  \\\n",
       "count  1403.000000  1403.000000  1403.000000  1403.000000  1403.000000   \n",
       "mean   1241.128297     0.059919    42.739843  1413.888810   223.375624   \n",
       "std     691.675612     0.013585    25.962692   757.572191   150.387510   \n",
       "min      14.000000     0.027000     4.000000     1.000000     0.000000   \n",
       "25%     681.500000     0.050000    21.000000   771.000000    95.500000   \n",
       "50%    1228.000000     0.057000    35.000000  1435.000000   198.000000   \n",
       "75%    1864.500000     0.068000    64.000000  2068.500000   350.000000   \n",
       "max    2408.000000     0.125000   138.000000  2692.000000   546.000000   \n",
       "\n",
       "            ounces  \n",
       "count  1403.000000  \n",
       "mean     13.510264  \n",
       "std       2.254112  \n",
       "min       8.400000  \n",
       "25%      12.000000  \n",
       "50%      12.000000  \n",
       "75%      16.000000  \n",
       "max      32.000000  "
      ]
     },
     "execution_count": 12,
     "metadata": {},
     "output_type": "execute_result"
    }
   ],
   "source": [
    "beer_df.describe()"
   ]
  },
  {
   "cell_type": "code",
   "execution_count": 13,
   "metadata": {
    "deletable": false,
    "nbgrader": {
     "cell_type": "code",
     "checksum": "ad558068126dfeb5ffd0045e9e2f34a2",
     "grade": false,
     "grade_id": "cell-f6596e92382da73f",
     "locked": false,
     "schema_version": 3,
     "solution": true
    }
   },
   "outputs": [
    {
     "name": "stdout",
     "output_type": "stream",
     "text": [
      "American IPA                          301\n",
      "American Pale Ale (APA)               153\n",
      "American Amber / Red Ale               77\n",
      "American Double / Imperial IPA         75\n",
      "American Blonde Ale                    61\n",
      "                                     ... \n",
      "Roggenbier                              1\n",
      "Smoked Beer                             1\n",
      "Euro Pale Lager                         1\n",
      "Other                                   1\n",
      "American Double / Imperial Pilsner      1\n",
      "Name: style, Length: 90, dtype: int64\n"
     ]
    }
   ],
   "source": [
    "beer_counts = beer_df[\"style\"].value_counts()\n",
    "print(beer_counts)"
   ]
  },
  {
   "cell_type": "code",
   "execution_count": 14,
   "metadata": {
    "deletable": false,
    "nbgrader": {
     "cell_type": "code",
     "checksum": "eb8b649dd11f4c45717162b787d30ae6",
     "grade": false,
     "grade_id": "cell-48c99ba398ca62d3",
     "locked": false,
     "schema_version": 3,
     "solution": true
    }
   },
   "outputs": [],
   "source": [
    "styles = list(beer_counts.index[0: 4])\n",
    "beer_df = beer_df[beer_df[\"style\"].isin(styles)]"
   ]
  },
  {
   "cell_type": "markdown",
   "metadata": {
    "deletable": false,
    "editable": false,
    "nbgrader": {
     "cell_type": "markdown",
     "checksum": "032f48760f03c1b8a94614909b4bb7b5",
     "grade": false,
     "grade_id": "cell-3ab868e2e0d255fe",
     "locked": true,
     "schema_version": 3,
     "solution": false
    }
   },
   "source": [
    "# Part II : Prediction Model"
   ]
  },
  {
   "cell_type": "code",
   "execution_count": 15,
   "metadata": {
    "deletable": false,
    "nbgrader": {
     "cell_type": "code",
     "checksum": "5b8acbbc26c81a0128b70291421e481c",
     "grade": false,
     "grade_id": "cell-f165209e70ea6449",
     "locked": false,
     "schema_version": 3,
     "solution": true
    }
   },
   "outputs": [],
   "source": [
    "import random\n",
    "num_training = int(0.8 * beer_df.shape[0])\n",
    "num_testing = beer_df.shape[0] - num_training"
   ]
  },
  {
   "cell_type": "code",
   "execution_count": 16,
   "metadata": {
    "deletable": false,
    "nbgrader": {
     "cell_type": "code",
     "checksum": "11f64e8b1c309cdbe295d833527a713c",
     "grade": false,
     "grade_id": "cell-09abd08ce060707e",
     "locked": false,
     "schema_version": 3,
     "solution": true
    }
   },
   "outputs": [],
   "source": [
    "beer_X = beer_df[[\"abv\", \"ibu\"]]\n",
    "beer_Y = np.array(beer_df[\"style\"])"
   ]
  },
  {
   "cell_type": "code",
   "execution_count": 17,
   "metadata": {
    "deletable": false,
    "nbgrader": {
     "cell_type": "code",
     "checksum": "13799013bce30e14fb69ca3097b1edda",
     "grade": false,
     "grade_id": "cell-fd8962674731f8e3",
     "locked": false,
     "schema_version": 3,
     "solution": true
    }
   },
   "outputs": [],
   "source": [
    "beer_train_X = beer_X.iloc[: num_training]\n",
    "beer_test_X = beer_X.iloc[num_training: ]\n",
    "beer_train_Y = beer_Y[: num_training]\n",
    "beer_test_Y = beer_Y[num_training: ]"
   ]
  },
  {
   "cell_type": "code",
   "execution_count": 18,
   "metadata": {},
   "outputs": [],
   "source": [
    "def train_SVM(X, y, kernel='linear'):\n",
    "    clf = SVC(kernel=kernel)\n",
    "    clf.fit(X, y)\n",
    "    \n",
    "    return clf"
   ]
  },
  {
   "cell_type": "code",
   "execution_count": 19,
   "metadata": {
    "deletable": false,
    "nbgrader": {
     "cell_type": "code",
     "checksum": "29d83d670688d72f56ac16e9fbaf2f21",
     "grade": false,
     "grade_id": "cell-c206bff1f25a305d",
     "locked": false,
     "schema_version": 3,
     "solution": true
    }
   },
   "outputs": [],
   "source": [
    "beer_clf = train_SVM(beer_train_X, beer_train_Y)"
   ]
  },
  {
   "cell_type": "code",
   "execution_count": 20,
   "metadata": {
    "deletable": false,
    "nbgrader": {
     "cell_type": "code",
     "checksum": "66111a02bdebc153ab5612c08f12393e",
     "grade": false,
     "grade_id": "cell-2a2fef981469581b",
     "locked": false,
     "schema_version": 3,
     "solution": true
    }
   },
   "outputs": [],
   "source": [
    "beer_predicted_train_Y = beer_clf.predict(beer_train_X)\n",
    "beer_predicted_test_Y = beer_clf.predict(beer_test_X)"
   ]
  },
  {
   "cell_type": "markdown",
   "metadata": {
    "deletable": false,
    "editable": false,
    "nbgrader": {
     "cell_type": "markdown",
     "checksum": "d3fe08ec00069f19077259c125222d2a",
     "grade": false,
     "grade_id": "cell-597175267bdb0dd1",
     "locked": true,
     "schema_version": 3,
     "solution": false
    }
   },
   "source": [
    "# Part III : Model Assessment"
   ]
  },
  {
   "cell_type": "code",
   "execution_count": 21,
   "metadata": {
    "deletable": false,
    "nbgrader": {
     "cell_type": "code",
     "checksum": "52cca7e45abd6f1135c3ebcccbd2f065",
     "grade": false,
     "grade_id": "cell-5cc9c9d3cca4e6ce",
     "locked": false,
     "schema_version": 3,
     "solution": true
    }
   },
   "outputs": [
    {
     "name": "stdout",
     "output_type": "stream",
     "text": [
      "                                precision    recall  f1-score   support\n",
      "\n",
      "      American Amber / Red Ale       0.82      0.45      0.58        69\n",
      "American Double / Imperial IPA       0.76      0.25      0.37        53\n",
      "                  American IPA       0.69      0.84      0.76       236\n",
      "       American Pale Ale (APA)       0.57      0.64      0.60       126\n",
      "\n",
      "                      accuracy                           0.67       484\n",
      "                     macro avg       0.71      0.54      0.58       484\n",
      "                  weighted avg       0.69      0.67      0.65       484\n",
      "\n"
     ]
    }
   ],
   "source": [
    "class_report_train = classification_report(beer_train_Y, beer_predicted_train_Y)\n",
    "print(class_report_train)"
   ]
  },
  {
   "cell_type": "code",
   "execution_count": 22,
   "metadata": {
    "deletable": false,
    "nbgrader": {
     "cell_type": "code",
     "checksum": "101207e1e778daeab598400e902ec9d1",
     "grade": false,
     "grade_id": "cell-82e29dc9780e9d89",
     "locked": false,
     "schema_version": 3,
     "solution": true
    }
   },
   "outputs": [
    {
     "name": "stdout",
     "output_type": "stream",
     "text": [
      "                                precision    recall  f1-score   support\n",
      "\n",
      "      American Amber / Red Ale       0.62      0.62      0.62         8\n",
      "American Double / Imperial IPA       0.78      0.32      0.45        22\n",
      "                  American IPA       0.70      0.72      0.71        65\n",
      "       American Pale Ale (APA)       0.55      0.78      0.65        27\n",
      "\n",
      "                      accuracy                           0.66       122\n",
      "                     macro avg       0.66      0.61      0.61       122\n",
      "                  weighted avg       0.68      0.66      0.64       122\n",
      "\n"
     ]
    }
   ],
   "source": [
    "class_report_test = classification_report(beer_test_Y, beer_predicted_test_Y)\n",
    "print(class_report_test)"
   ]
  },
  {
   "cell_type": "code",
   "execution_count": 23,
   "metadata": {
    "deletable": false,
    "nbgrader": {
     "cell_type": "code",
     "checksum": "6c3f25413dbeba82cfd6c032cd6a8507",
     "grade": false,
     "grade_id": "cell-f0a1f8d304bd71ae",
     "locked": false,
     "schema_version": 3,
     "solution": true
    }
   },
   "outputs": [
    {
     "name": "stdout",
     "output_type": "stream",
     "text": [
      "[[ 31   1  10  27]\n",
      " [  0  13  40   0]\n",
      " [  0   3 198  35]\n",
      " [  7   0  38  81]]\n"
     ]
    }
   ],
   "source": [
    "conf_mat_train = confusion_matrix(beer_train_Y, beer_predicted_train_Y)\n",
    "print(conf_mat_train)"
   ]
  },
  {
   "cell_type": "code",
   "execution_count": 24,
   "metadata": {
    "deletable": false,
    "nbgrader": {
     "cell_type": "code",
     "checksum": "0988a9ee91c1a83657f9cd609eca16c1",
     "grade": false,
     "grade_id": "cell-dcfae2fde6f81ba9",
     "locked": false,
     "schema_version": 3,
     "solution": true
    }
   },
   "outputs": [
    {
     "name": "stdout",
     "output_type": "stream",
     "text": [
      "[[ 5  0  2  1]\n",
      " [ 1  7 14  0]\n",
      " [ 0  2 47 16]\n",
      " [ 2  0  4 21]]\n"
     ]
    }
   ],
   "source": [
    "conf_mat_test = confusion_matrix(beer_test_Y, beer_predicted_test_Y)\n",
    "print(conf_mat_test)"
   ]
  }
 ],
 "metadata": {
  "kernelspec": {
   "display_name": "Python 3 (ipykernel)",
   "language": "python",
   "name": "python3"
  },
  "language_info": {
   "codemirror_mode": {
    "name": "ipython",
    "version": 3
   },
   "file_extension": ".py",
   "mimetype": "text/x-python",
   "name": "python",
   "nbconvert_exporter": "python",
   "pygments_lexer": "ipython3",
   "version": "3.9.13"
  }
 },
 "nbformat": 4,
 "nbformat_minor": 2
}
